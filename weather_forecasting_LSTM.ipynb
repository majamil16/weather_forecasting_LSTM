{
  "nbformat": 4,
  "nbformat_minor": 0,
  "metadata": {
    "colab": {
      "name": "weather_forecasting_LSTM.ipynb",
      "provenance": [],
      "collapsed_sections": [],
      "mount_file_id": "1Zr6j7sj0woZcOn8LGhcjHZiLdpMX_VXZ",
      "authorship_tag": "ABX9TyPOUljhfWaKEtglzUrpo6yk",
      "include_colab_link": true
    },
    "kernelspec": {
      "name": "python3",
      "display_name": "Python 3"
    },
    "language_info": {
      "name": "python"
    }
  },
  "cells": [
    {
      "cell_type": "markdown",
      "metadata": {
        "id": "view-in-github",
        "colab_type": "text"
      },
      "source": [
        "<a href=\"https://colab.research.google.com/github/majamil16/weather_forecasting_LSTM/blob/main/weather_forecasting_LSTM.ipynb\" target=\"_parent\"><img src=\"https://colab.research.google.com/assets/colab-badge.svg\" alt=\"Open In Colab\"/></a>"
      ]
    },
    {
      "cell_type": "code",
      "source": [
        "# Meteostat library is used to retrieve the weather data\n",
        "!pip install meteostat"
      ],
      "metadata": {
        "colab": {
          "base_uri": "https://localhost:8080/"
        },
        "id": "7sj79zgR1DvQ",
        "outputId": "37547a22-d28e-4bfa-d7c7-4f4ffeffac97"
      },
      "execution_count": null,
      "outputs": [
        {
          "output_type": "stream",
          "name": "stdout",
          "text": [
            "Collecting meteostat\n",
            "  Downloading meteostat-1.6.1-py3-none-any.whl (30 kB)\n",
            "Requirement already satisfied: pandas>=1.1 in /usr/local/lib/python3.7/dist-packages (from meteostat) (1.3.5)\n",
            "Requirement already satisfied: pytz in /usr/local/lib/python3.7/dist-packages (from meteostat) (2018.9)\n",
            "Requirement already satisfied: numpy in /usr/local/lib/python3.7/dist-packages (from meteostat) (1.21.5)\n",
            "Requirement already satisfied: python-dateutil>=2.7.3 in /usr/local/lib/python3.7/dist-packages (from pandas>=1.1->meteostat) (2.8.2)\n",
            "Requirement already satisfied: six>=1.5 in /usr/local/lib/python3.7/dist-packages (from python-dateutil>=2.7.3->pandas>=1.1->meteostat) (1.15.0)\n",
            "Installing collected packages: meteostat\n",
            "Successfully installed meteostat-1.6.1\n"
          ]
        }
      ]
    },
    {
      "cell_type": "code",
      "execution_count": null,
      "metadata": {
        "id": "Xr6R6r-i0unT"
      },
      "outputs": [],
      "source": [
        "# import libraries\n",
        "import pandas as pd\n",
        "import numpy as np \n",
        "from datetime import datetime\n",
        "import matplotlib.pyplot as plt\n",
        "import seaborn as sns\n",
        "from meteostat import Point, Daily, Stations"
      ]
    },
    {
      "cell_type": "code",
      "source": [
        "# to make graphs prettier :)\n",
        "sns.set_style('darkgrid')\n",
        "sns.set_palette('Set2')"
      ],
      "metadata": {
        "id": "JrSAU1YqcZP6"
      },
      "execution_count": null,
      "outputs": []
    },
    {
      "cell_type": "code",
      "source": [
        "# retrieve the last 15 years of weather data\n",
        "start = datetime(2008, 3, 1)\n",
        "end = datetime(2022, 3, 1)\n",
        "\n",
        "# Rochester Int'l Airport weather station - https://meteostat.net/en/station/72529\n",
        "STATION = '72529'\n",
        "\n",
        "# Get daily data from the station\n",
        "data = Daily(STATION, start=start, end=end)\n",
        "data = data.normalize()\n",
        "data = data.interpolate() # fill in gaps where data is missing\n",
        "data = data.fetch()\n"
      ],
      "metadata": {
        "id": "M89luIcD1C9Z"
      },
      "execution_count": null,
      "outputs": []
    },
    {
      "cell_type": "code",
      "source": [
        "data.head()"
      ],
      "metadata": {
        "colab": {
          "base_uri": "https://localhost:8080/",
          "height": 238
        },
        "id": "EsXDW2S76gom",
        "outputId": "98294170-2fe2-4720-c6b3-69658229ea7d"
      },
      "execution_count": null,
      "outputs": [
        {
          "output_type": "execute_result",
          "data": {
            "text/html": [
              "\n",
              "  <div id=\"df-71c00509-db89-4024-9599-711360fdad2e\">\n",
              "    <div class=\"colab-df-container\">\n",
              "      <div>\n",
              "<style scoped>\n",
              "    .dataframe tbody tr th:only-of-type {\n",
              "        vertical-align: middle;\n",
              "    }\n",
              "\n",
              "    .dataframe tbody tr th {\n",
              "        vertical-align: top;\n",
              "    }\n",
              "\n",
              "    .dataframe thead th {\n",
              "        text-align: right;\n",
              "    }\n",
              "</style>\n",
              "<table border=\"1\" class=\"dataframe\">\n",
              "  <thead>\n",
              "    <tr style=\"text-align: right;\">\n",
              "      <th></th>\n",
              "      <th>tavg</th>\n",
              "      <th>tmin</th>\n",
              "      <th>tmax</th>\n",
              "      <th>prcp</th>\n",
              "      <th>snow</th>\n",
              "      <th>wdir</th>\n",
              "      <th>wspd</th>\n",
              "      <th>wpgt</th>\n",
              "      <th>pres</th>\n",
              "      <th>tsun</th>\n",
              "    </tr>\n",
              "    <tr>\n",
              "      <th>time</th>\n",
              "      <th></th>\n",
              "      <th></th>\n",
              "      <th></th>\n",
              "      <th></th>\n",
              "      <th></th>\n",
              "      <th></th>\n",
              "      <th></th>\n",
              "      <th></th>\n",
              "      <th></th>\n",
              "      <th></th>\n",
              "    </tr>\n",
              "  </thead>\n",
              "  <tbody>\n",
              "    <tr>\n",
              "      <th>2008-03-01</th>\n",
              "      <td>7.3</td>\n",
              "      <td>3.9</td>\n",
              "      <td>11.4</td>\n",
              "      <td>3.3</td>\n",
              "      <td>NaN</td>\n",
              "      <td>126.0</td>\n",
              "      <td>14.6</td>\n",
              "      <td>NaN</td>\n",
              "      <td>1019.1</td>\n",
              "      <td>NaN</td>\n",
              "    </tr>\n",
              "    <tr>\n",
              "      <th>2008-03-02</th>\n",
              "      <td>5.9</td>\n",
              "      <td>2.0</td>\n",
              "      <td>8.0</td>\n",
              "      <td>0.0</td>\n",
              "      <td>NaN</td>\n",
              "      <td>126.0</td>\n",
              "      <td>13.0</td>\n",
              "      <td>NaN</td>\n",
              "      <td>1033.5</td>\n",
              "      <td>NaN</td>\n",
              "    </tr>\n",
              "    <tr>\n",
              "      <th>2008-03-03</th>\n",
              "      <td>4.6</td>\n",
              "      <td>1.0</td>\n",
              "      <td>8.5</td>\n",
              "      <td>9.4</td>\n",
              "      <td>NaN</td>\n",
              "      <td>88.0</td>\n",
              "      <td>21.2</td>\n",
              "      <td>NaN</td>\n",
              "      <td>1019.8</td>\n",
              "      <td>NaN</td>\n",
              "    </tr>\n",
              "    <tr>\n",
              "      <th>2008-03-04</th>\n",
              "      <td>5.0</td>\n",
              "      <td>0.0</td>\n",
              "      <td>8.0</td>\n",
              "      <td>0.0</td>\n",
              "      <td>NaN</td>\n",
              "      <td>85.4</td>\n",
              "      <td>7.6</td>\n",
              "      <td>NaN</td>\n",
              "      <td>1026.5</td>\n",
              "      <td>NaN</td>\n",
              "    </tr>\n",
              "    <tr>\n",
              "      <th>2008-03-05</th>\n",
              "      <td>4.2</td>\n",
              "      <td>-1.0</td>\n",
              "      <td>8.5</td>\n",
              "      <td>0.0</td>\n",
              "      <td>NaN</td>\n",
              "      <td>82.8</td>\n",
              "      <td>6.1</td>\n",
              "      <td>NaN</td>\n",
              "      <td>1029.1</td>\n",
              "      <td>NaN</td>\n",
              "    </tr>\n",
              "  </tbody>\n",
              "</table>\n",
              "</div>\n",
              "      <button class=\"colab-df-convert\" onclick=\"convertToInteractive('df-71c00509-db89-4024-9599-711360fdad2e')\"\n",
              "              title=\"Convert this dataframe to an interactive table.\"\n",
              "              style=\"display:none;\">\n",
              "        \n",
              "  <svg xmlns=\"http://www.w3.org/2000/svg\" height=\"24px\"viewBox=\"0 0 24 24\"\n",
              "       width=\"24px\">\n",
              "    <path d=\"M0 0h24v24H0V0z\" fill=\"none\"/>\n",
              "    <path d=\"M18.56 5.44l.94 2.06.94-2.06 2.06-.94-2.06-.94-.94-2.06-.94 2.06-2.06.94zm-11 1L8.5 8.5l.94-2.06 2.06-.94-2.06-.94L8.5 2.5l-.94 2.06-2.06.94zm10 10l.94 2.06.94-2.06 2.06-.94-2.06-.94-.94-2.06-.94 2.06-2.06.94z\"/><path d=\"M17.41 7.96l-1.37-1.37c-.4-.4-.92-.59-1.43-.59-.52 0-1.04.2-1.43.59L10.3 9.45l-7.72 7.72c-.78.78-.78 2.05 0 2.83L4 21.41c.39.39.9.59 1.41.59.51 0 1.02-.2 1.41-.59l7.78-7.78 2.81-2.81c.8-.78.8-2.07 0-2.86zM5.41 20L4 18.59l7.72-7.72 1.47 1.35L5.41 20z\"/>\n",
              "  </svg>\n",
              "      </button>\n",
              "      \n",
              "  <style>\n",
              "    .colab-df-container {\n",
              "      display:flex;\n",
              "      flex-wrap:wrap;\n",
              "      gap: 12px;\n",
              "    }\n",
              "\n",
              "    .colab-df-convert {\n",
              "      background-color: #E8F0FE;\n",
              "      border: none;\n",
              "      border-radius: 50%;\n",
              "      cursor: pointer;\n",
              "      display: none;\n",
              "      fill: #1967D2;\n",
              "      height: 32px;\n",
              "      padding: 0 0 0 0;\n",
              "      width: 32px;\n",
              "    }\n",
              "\n",
              "    .colab-df-convert:hover {\n",
              "      background-color: #E2EBFA;\n",
              "      box-shadow: 0px 1px 2px rgba(60, 64, 67, 0.3), 0px 1px 3px 1px rgba(60, 64, 67, 0.15);\n",
              "      fill: #174EA6;\n",
              "    }\n",
              "\n",
              "    [theme=dark] .colab-df-convert {\n",
              "      background-color: #3B4455;\n",
              "      fill: #D2E3FC;\n",
              "    }\n",
              "\n",
              "    [theme=dark] .colab-df-convert:hover {\n",
              "      background-color: #434B5C;\n",
              "      box-shadow: 0px 1px 3px 1px rgba(0, 0, 0, 0.15);\n",
              "      filter: drop-shadow(0px 1px 2px rgba(0, 0, 0, 0.3));\n",
              "      fill: #FFFFFF;\n",
              "    }\n",
              "  </style>\n",
              "\n",
              "      <script>\n",
              "        const buttonEl =\n",
              "          document.querySelector('#df-71c00509-db89-4024-9599-711360fdad2e button.colab-df-convert');\n",
              "        buttonEl.style.display =\n",
              "          google.colab.kernel.accessAllowed ? 'block' : 'none';\n",
              "\n",
              "        async function convertToInteractive(key) {\n",
              "          const element = document.querySelector('#df-71c00509-db89-4024-9599-711360fdad2e');\n",
              "          const dataTable =\n",
              "            await google.colab.kernel.invokeFunction('convertToInteractive',\n",
              "                                                     [key], {});\n",
              "          if (!dataTable) return;\n",
              "\n",
              "          const docLinkHtml = 'Like what you see? Visit the ' +\n",
              "            '<a target=\"_blank\" href=https://colab.research.google.com/notebooks/data_table.ipynb>data table notebook</a>'\n",
              "            + ' to learn more about interactive tables.';\n",
              "          element.innerHTML = '';\n",
              "          dataTable['output_type'] = 'display_data';\n",
              "          await google.colab.output.renderOutput(dataTable, element);\n",
              "          const docLink = document.createElement('div');\n",
              "          docLink.innerHTML = docLinkHtml;\n",
              "          element.appendChild(docLink);\n",
              "        }\n",
              "      </script>\n",
              "    </div>\n",
              "  </div>\n",
              "  "
            ],
            "text/plain": [
              "            tavg  tmin  tmax  prcp  snow   wdir  wspd  wpgt    pres  tsun\n",
              "time                                                                     \n",
              "2008-03-01   7.3   3.9  11.4   3.3   NaN  126.0  14.6   NaN  1019.1   NaN\n",
              "2008-03-02   5.9   2.0   8.0   0.0   NaN  126.0  13.0   NaN  1033.5   NaN\n",
              "2008-03-03   4.6   1.0   8.5   9.4   NaN   88.0  21.2   NaN  1019.8   NaN\n",
              "2008-03-04   5.0   0.0   8.0   0.0   NaN   85.4   7.6   NaN  1026.5   NaN\n",
              "2008-03-05   4.2  -1.0   8.5   0.0   NaN   82.8   6.1   NaN  1029.1   NaN"
            ]
          },
          "metadata": {},
          "execution_count": 4
        }
      ]
    },
    {
      "cell_type": "code",
      "source": [
        "\"\"\"\n",
        "Features of dataset : \n",
        "\n",
        "tavg\tThe average air temperature in °C\tFloat64\n",
        "tmin\tThe minimum air temperature in °C\tFloat64\n",
        "tmax\tThe maximum air temperature in °C\tFloat64\n",
        "prcp\tThe daily precipitation total in mm\tFloat64\n",
        "snow\tThe snow depth in mm\tFloat64\n",
        "wdir\tThe average wind direction in degrees (°)\tFloat64\n",
        "wspd\tThe average wind speed in km/h\tFloat64\n",
        "wpgt\tThe peak wind gust in km/h\tFloat64\n",
        "pres\tThe average sea-level air pressure in hPa\tFloat64\n",
        "tsun\tThe daily sunshine total in minutes (m)\tFloat64\n",
        "\"\"\"\n",
        "\n",
        "# Plot line chart including average, minimum and maximum temperature\n",
        "data.plot(y=['tavg', 'tmin', 'tmax'])\n",
        "plt.show()"
      ],
      "metadata": {
        "colab": {
          "base_uri": "https://localhost:8080/",
          "height": 279
        },
        "id": "zjHOtHlq2nue",
        "outputId": "6b7d9e6c-a622-4f7e-a33b-72d05eeef627"
      },
      "execution_count": null,
      "outputs": [
        {
          "output_type": "display_data",
          "data": {
            "image/png": "[encoded data removed]",
            "text/plain": [
              "<Figure size 432x288 with 1 Axes>"
            ]
          },
          "metadata": {}
        }
      ]
    },
    {
      "cell_type": "code",
      "source": [
        "# Plot pressure data\n",
        "data.plot(y=['pres'])\n",
        "plt.show()"
      ],
      "metadata": {
        "colab": {
          "base_uri": "https://localhost:8080/",
          "height": 279
        },
        "id": "zF1G_3qW3RDa",
        "outputId": "2ceb0bc7-3b41-465d-b308-ecad706ce571"
      },
      "execution_count": null,
      "outputs": [
        {
          "output_type": "display_data",
          "data": {
            "image/png": "[encoded data removed]",
            "text/plain": [
              "<Figure size 432x288 with 1 Axes>"
            ]
          },
          "metadata": {}
        }
      ]
    },
    {
      "cell_type": "code",
      "source": [
        "# Plot average wind speed data\n",
        "data.plot(y=['wspd'])\n",
        "plt.show()"
      ],
      "metadata": {
        "colab": {
          "base_uri": "https://localhost:8080/",
          "height": 279
        },
        "id": "qgqUnJA-3Umh",
        "outputId": "d6d36ff2-2a66-4e1b-a6ce-5b8b22f13854"
      },
      "execution_count": null,
      "outputs": [
        {
          "output_type": "display_data",
          "data": {
            "image/png": "[encoded data removed]",
            "text/plain": [
              "<Figure size 432x288 with 1 Axes>"
            ]
          },
          "metadata": {}
        }
      ]
    },
    {
      "cell_type": "code",
      "source": [
        "# Plot daily precipitation total data\n",
        "data.plot(y=['prcp'])\n",
        "plt.show()"
      ],
      "metadata": {
        "colab": {
          "base_uri": "https://localhost:8080/",
          "height": 282
        },
        "id": "wazJYlWn3wTZ",
        "outputId": "b96f4f51-d3e7-4088-b6f4-293f3823eddb"
      },
      "execution_count": null,
      "outputs": [
        {
          "output_type": "display_data",
          "data": {
            "image/png": "[encoded data removed]",
            "text/plain": [
              "<Figure size 432x288 with 1 Axes>"
            ]
          },
          "metadata": {}
        }
      ]
    },
    {
      "cell_type": "markdown",
      "source": [
        "## Data Preprocessing and Formatting\n",
        "\n",
        "### Impute Missing Values\n",
        "\n",
        "We need to make sure there is no missing data in our training set. Note that `meteostat` has already done interpolation of data to fill in some gaps (`data.interpolate()`), but there may still be some data missing.\n",
        "\n",
        "### Format our data for LSTM\n",
        "\n",
        "For LSTM, we need to format the data into sequences. This involves reshaping the input dataframe (where each row represents the 6 features for 1 day) into sequences where we use the previous 7 days of data to predict the next 1 day."
      ],
      "metadata": {
        "id": "iMCuVWM_C1ne"
      }
    },
    {
      "cell_type": "code",
      "source": [
        "# Columns we are using\n",
        "feature_names = ['pres', 'wspd','prcp', 'tavg', 'tmin', 'tmax' ] # pressure, wind speed, precipitation, avg, min, max temp\n",
        "\n",
        "data = data[feature_names]\n",
        "\n",
        "dates = data.index.to_numpy()\n",
        "len(dates) / 365"
      ],
      "metadata": {
        "id": "JqWoRfg331yT",
        "colab": {
          "base_uri": "https://localhost:8080/"
        },
        "outputId": "427f0bb1-bf23-4910-c7a8-afc94d5493b9"
      },
      "execution_count": null,
      "outputs": [
        {
          "output_type": "execute_result",
          "data": {
            "text/plain": [
              "14.01095890410959"
            ]
          },
          "metadata": {},
          "execution_count": 9
        }
      ]
    },
    {
      "cell_type": "code",
      "source": [
        "# Check for columns that contain nan values\n",
        "nan_cols = data.isnull().any()\n",
        "print(nan_cols)\n",
        "\n",
        "# 'prcp' has some missing values - find out how many\n",
        "n_nan_prcp = sum(data.prcp.isnull())\n",
        "pct_nan = sum(data.prcp.isnull())/len(data.prcp) * 100\n",
        "print(f\"{n_nan_prcp} / {len(data.prcp)} missing values ({pct_nan}%)\")"
      ],
      "metadata": {
        "colab": {
          "base_uri": "https://localhost:8080/"
        },
        "id": "IzGcvZdI0CPJ",
        "outputId": "db997b96-5cd5-426d-c991-d21ee4281ea3"
      },
      "execution_count": null,
      "outputs": [
        {
          "output_type": "stream",
          "name": "stdout",
          "text": [
            "pres    False\n",
            "wspd    False\n",
            "prcp     True\n",
            "tavg    False\n",
            "tmin    False\n",
            "tmax    False\n",
            "dtype: bool\n",
            "6 / 5114 missing values (0.11732499022291748%)\n"
          ]
        }
      ]
    },
    {
      "cell_type": "code",
      "source": [
        "# look at the dates for which the prcp is missing?\n",
        "data.prcp[data.prcp.isnull()]"
      ],
      "metadata": {
        "colab": {
          "base_uri": "https://localhost:8080/"
        },
        "id": "wtvlxUhd0z3Q",
        "outputId": "3306f465-f081-4e16-cd16-167803ab0189"
      },
      "execution_count": null,
      "outputs": [
        {
          "output_type": "execute_result",
          "data": {
            "text/plain": [
              "time\n",
              "2013-06-04   NaN\n",
              "2013-06-05   NaN\n",
              "2013-06-06   NaN\n",
              "2013-06-07   NaN\n",
              "2013-06-08   NaN\n",
              "2013-06-09   NaN\n",
              "Name: prcp, dtype: float64"
            ]
          },
          "metadata": {},
          "execution_count": 11
        }
      ]
    },
    {
      "cell_type": "code",
      "source": [
        "# interestingly - there is 1 week of missing data\n",
        "# let's look at the week before and after to get an idea of the precipitation amounts\n",
        "null_index = data.prcp[data.prcp.isnull()].index\n",
        "data.prcp[null_index]"
      ],
      "metadata": {
        "colab": {
          "base_uri": "https://localhost:8080/"
        },
        "id": "W7Aso2th3XVN",
        "outputId": "fdaa6d1c-a6be-42f6-863e-c7327d58e9c0"
      },
      "execution_count": null,
      "outputs": [
        {
          "output_type": "execute_result",
          "data": {
            "text/plain": [
              "time\n",
              "2013-06-04   NaN\n",
              "2013-06-05   NaN\n",
              "2013-06-06   NaN\n",
              "2013-06-07   NaN\n",
              "2013-06-08   NaN\n",
              "2013-06-09   NaN\n",
              "Name: prcp, dtype: float64"
            ]
          },
          "metadata": {},
          "execution_count": 12
        }
      ]
    },
    {
      "cell_type": "code",
      "source": [
        "prior_wk = null_index - pd.Timedelta(6, unit='D') \n",
        "post_wk = null_index + pd.Timedelta(7, unit='D') "
      ],
      "metadata": {
        "id": "G48sS0Mo4n4X"
      },
      "execution_count": null,
      "outputs": []
    },
    {
      "cell_type": "code",
      "source": [
        "data.prcp[prior_wk]"
      ],
      "metadata": {
        "colab": {
          "base_uri": "https://localhost:8080/"
        },
        "id": "Rhg2mSsF59Gi",
        "outputId": "98a185dd-5513-491e-cc61-c22a06f839a2"
      },
      "execution_count": null,
      "outputs": [
        {
          "output_type": "execute_result",
          "data": {
            "text/plain": [
              "time\n",
              "2013-05-29    13.2\n",
              "2013-05-30     3.3\n",
              "2013-05-31     0.0\n",
              "2013-06-01     0.0\n",
              "2013-06-02     0.0\n",
              "2013-06-03     0.0\n",
              "Name: prcp, dtype: float64"
            ]
          },
          "metadata": {},
          "execution_count": 14
        }
      ]
    },
    {
      "cell_type": "code",
      "source": [
        "data.prcp[post_wk]"
      ],
      "metadata": {
        "colab": {
          "base_uri": "https://localhost:8080/"
        },
        "id": "eA2gK-oo58_1",
        "outputId": "8a24fbe8-06a1-4c41-c7b2-bf8a82b706e0"
      },
      "execution_count": null,
      "outputs": [
        {
          "output_type": "execute_result",
          "data": {
            "text/plain": [
              "time\n",
              "2013-06-11    0.0\n",
              "2013-06-12    0.0\n",
              "2013-06-13    0.0\n",
              "2013-06-14    0.4\n",
              "2013-06-15    0.0\n",
              "2013-06-16    0.0\n",
              "Name: prcp, dtype: float64"
            ]
          },
          "metadata": {},
          "execution_count": 15
        }
      ]
    },
    {
      "cell_type": "code",
      "source": [
        "# Seems like it was a dry week! It's probably safe to fill nan with 0.\n",
        "data.prcp = data.prcp.fillna(0)"
      ],
      "metadata": {
        "id": "dDB0YpeE6Lba",
        "colab": {
          "base_uri": "https://localhost:8080/"
        },
        "outputId": "44cad022-41be-4c72-c6b2-49bc5dab8f74"
      },
      "execution_count": null,
      "outputs": [
        {
          "output_type": "stream",
          "name": "stderr",
          "text": [
            "SettingWithCopyWarning: \n",
            "A value is trying to be set on a copy of a slice from a DataFrame.\n",
            "Try using .loc[row_indexer,col_indexer] = value instead\n",
            "\n",
            "See the caveats in the documentation: https://pandas.pydata.org/pandas-docs/stable/user_guide/indexing.html#returning-a-view-versus-a-copy\n"
          ]
        }
      ]
    },
    {
      "cell_type": "code",
      "source": [
        "# finally - make sure dtype is float\n",
        "data = data.astype(float)"
      ],
      "metadata": {
        "id": "Ib2WbOal68Q8"
      },
      "execution_count": null,
      "outputs": []
    },
    {
      "cell_type": "code",
      "source": [
        "print(data.dtypes)"
      ],
      "metadata": {
        "colab": {
          "base_uri": "https://localhost:8080/"
        },
        "id": "NKG5UATk7QJJ",
        "outputId": "8c299b1f-86fd-4719-8763-49ee2efef257"
      },
      "execution_count": null,
      "outputs": [
        {
          "output_type": "stream",
          "name": "stdout",
          "text": [
            "pres    float64\n",
            "wspd    float64\n",
            "prcp    float64\n",
            "tavg    float64\n",
            "tmin    float64\n",
            "tmax    float64\n",
            "dtype: object\n"
          ]
        }
      ]
    },
    {
      "cell_type": "code",
      "source": [
        "from sklearn.preprocessing import StandardScaler\n",
        "# LSTM requires standardization (mean=0, var=unit) of data to ensure convergence (use tanh range=(-1,1) and sigmoid range=(0,1))\n",
        "\n",
        "scaler = StandardScaler()\n",
        "scaler.fit(data)\n",
        "\n",
        "scaled_data = scaler.transform(data)\n",
        "scaled_data"
      ],
      "metadata": {
        "colab": {
          "base_uri": "https://localhost:8080/"
        },
        "id": "0fsX4P4W-4rR",
        "outputId": "00a2c8a1-6ec2-4acb-977a-66e7fbda0f57"
      },
      "execution_count": null,
      "outputs": [
        {
          "output_type": "execute_result",
          "data": {
            "text/plain": [
              "array([[ 0.29768803,  0.22461925,  0.02187073, -0.55296741, -0.54694086,\n",
              "        -0.43709742],\n",
              "       [ 2.3214989 , -0.07114994, -0.50011312, -0.78913608, -0.88219335,\n",
              "        -0.95873846],\n",
              "       [ 0.39606773,  1.44466715,  0.98674996, -1.00843557, -1.05864202,\n",
              "        -0.88202654],\n",
              "       ...,\n",
              "       [-0.06772226,  1.11192681,  2.5527015 , -0.50235983, -0.45871653,\n",
              "        -0.54449411],\n",
              "       [-0.74232589,  0.96404222,  1.28728611, -0.51922902, -0.10581918,\n",
              "        -0.88202654],\n",
              "       [-0.15204772,  0.33553269,  0.05350611, -0.08063005,  0.0176949 ,\n",
              "        -0.19161929]])"
            ]
          },
          "metadata": {},
          "execution_count": 19
        }
      ]
    },
    {
      "cell_type": "code",
      "source": [
        "print(f\"Data shape ==> {scaled_data.shape}\")"
      ],
      "metadata": {
        "colab": {
          "base_uri": "https://localhost:8080/"
        },
        "id": "ZNJpZSghB40_",
        "outputId": "6b5f10e6-19ac-4ce1-ae82-7b95b9a5ce9e"
      },
      "execution_count": null,
      "outputs": [
        {
          "output_type": "stream",
          "name": "stdout",
          "text": [
            "Data shape ==> (5114, 6)\n"
          ]
        }
      ]
    },
    {
      "cell_type": "code",
      "source": [
        "def shape_data(dataset, n_past=7, n_future=1, y_var_ind=3):\n",
        "  \"\"\"\n",
        "  dataset = the dataset (scaled, or the dataframe - expects as numpy arrays)\n",
        "  n_past = how many past days we want to use to predict the {n_future} days ahead\n",
        "  n_future = how many days ahead we want to look. Default 1\n",
        "  y_var_ind = the index of the feature (here, tmax) in the dataframe. default to 3 because we want to predict the avg temp\n",
        "  \"\"\"\n",
        "\n",
        "  # declare arrays to store our train and test data\n",
        "  x_train = []\n",
        "  y_train = []\n",
        "\n",
        "  # loop through the dataset, starting at index n_past \n",
        "  for i in range(n_past, len(dataset) - n_future +1):\n",
        "    # look BACK n_past days - this is our 'x' data\n",
        "    x_train.append(dataset[i - n_past:i, 0:dataset.shape[1]])\n",
        "    # we are using the above to predict n_future days\n",
        "    y_train.append(dataset[i + n_future - 1:i + n_future, y_var_ind])\n",
        "\n",
        "  x_train, y_train = np.array(x_train), np.array(y_train)\n",
        "\n",
        "  return x_train, y_train"
      ],
      "metadata": {
        "id": "MXcuSRMs6ozs"
      },
      "execution_count": null,
      "outputs": []
    },
    {
      "cell_type": "code",
      "source": [
        "x_train, y_train = shape_data(scaled_data)"
      ],
      "metadata": {
        "id": "PnQUg7QzCEMJ"
      },
      "execution_count": null,
      "outputs": []
    },
    {
      "cell_type": "code",
      "source": [
        "x_traina, y_traina = shape_data(data.to_numpy())\n",
        "y_traina"
      ],
      "metadata": {
        "colab": {
          "base_uri": "https://localhost:8080/"
        },
        "id": "iABAnrD1XpSX",
        "outputId": "424651d8-f6c4-4147-d272-2f198a9fa83a"
      },
      "execution_count": null,
      "outputs": [
        {
          "output_type": "execute_result",
          "data": {
            "text/plain": [
              "array([[ 8.3],\n",
              "       [ 7.1],\n",
              "       [ 8.7],\n",
              "       ...,\n",
              "       [ 7.6],\n",
              "       [ 7.5],\n",
              "       [10.1]])"
            ]
          },
          "metadata": {},
          "execution_count": 37
        }
      ]
    },
    {
      "cell_type": "code",
      "source": [
        "data.tail(25)"
      ],
      "metadata": {
        "colab": {
          "base_uri": "https://localhost:8080/",
          "height": 865
        },
        "id": "2T3QVgHuWwiu",
        "outputId": "f009290d-1f2e-404b-a13a-82c2cf04b857"
      },
      "execution_count": null,
      "outputs": [
        {
          "output_type": "execute_result",
          "data": {
            "text/html": [
              "\n",
              "  <div id=\"df-f3d4a423-a03f-433b-8912-f48095bf31b8\">\n",
              "    <div class=\"colab-df-container\">\n",
              "      <div>\n",
              "<style scoped>\n",
              "    .dataframe tbody tr th:only-of-type {\n",
              "        vertical-align: middle;\n",
              "    }\n",
              "\n",
              "    .dataframe tbody tr th {\n",
              "        vertical-align: top;\n",
              "    }\n",
              "\n",
              "    .dataframe thead th {\n",
              "        text-align: right;\n",
              "    }\n",
              "</style>\n",
              "<table border=\"1\" class=\"dataframe\">\n",
              "  <thead>\n",
              "    <tr style=\"text-align: right;\">\n",
              "      <th></th>\n",
              "      <th>pres</th>\n",
              "      <th>wspd</th>\n",
              "      <th>prcp</th>\n",
              "      <th>tavg</th>\n",
              "      <th>tmin</th>\n",
              "      <th>tmax</th>\n",
              "    </tr>\n",
              "    <tr>\n",
              "      <th>time</th>\n",
              "      <th></th>\n",
              "      <th></th>\n",
              "      <th></th>\n",
              "      <th></th>\n",
              "      <th></th>\n",
              "      <th></th>\n",
              "    </tr>\n",
              "  </thead>\n",
              "  <tbody>\n",
              "    <tr>\n",
              "      <th>2022-02-05</th>\n",
              "      <td>1034.9</td>\n",
              "      <td>8.7</td>\n",
              "      <td>0.0</td>\n",
              "      <td>5.7</td>\n",
              "      <td>3.9</td>\n",
              "      <td>7.5</td>\n",
              "    </tr>\n",
              "    <tr>\n",
              "      <th>2022-02-06</th>\n",
              "      <td>1029.5</td>\n",
              "      <td>7.6</td>\n",
              "      <td>0.0</td>\n",
              "      <td>3.5</td>\n",
              "      <td>-0.4</td>\n",
              "      <td>7.4</td>\n",
              "    </tr>\n",
              "    <tr>\n",
              "      <th>2022-02-07</th>\n",
              "      <td>1027.5</td>\n",
              "      <td>14.6</td>\n",
              "      <td>0.0</td>\n",
              "      <td>7.4</td>\n",
              "      <td>2.9</td>\n",
              "      <td>11.8</td>\n",
              "    </tr>\n",
              "    <tr>\n",
              "      <th>2022-02-08</th>\n",
              "      <td>1035.8</td>\n",
              "      <td>13.3</td>\n",
              "      <td>2.9</td>\n",
              "      <td>5.5</td>\n",
              "      <td>2.9</td>\n",
              "      <td>8.0</td>\n",
              "    </tr>\n",
              "    <tr>\n",
              "      <th>2022-02-09</th>\n",
              "      <td>1036.4</td>\n",
              "      <td>8.3</td>\n",
              "      <td>0.9</td>\n",
              "      <td>7.3</td>\n",
              "      <td>5.8</td>\n",
              "      <td>8.7</td>\n",
              "    </tr>\n",
              "    <tr>\n",
              "      <th>2022-02-10</th>\n",
              "      <td>1033.0</td>\n",
              "      <td>7.6</td>\n",
              "      <td>0.2</td>\n",
              "      <td>5.1</td>\n",
              "      <td>3.4</td>\n",
              "      <td>6.8</td>\n",
              "    </tr>\n",
              "    <tr>\n",
              "      <th>2022-02-11</th>\n",
              "      <td>1032.8</td>\n",
              "      <td>15.1</td>\n",
              "      <td>0.0</td>\n",
              "      <td>5.1</td>\n",
              "      <td>2.2</td>\n",
              "      <td>8.0</td>\n",
              "    </tr>\n",
              "    <tr>\n",
              "      <th>2022-02-12</th>\n",
              "      <td>1027.9</td>\n",
              "      <td>11.5</td>\n",
              "      <td>0.0</td>\n",
              "      <td>3.6</td>\n",
              "      <td>-0.2</td>\n",
              "      <td>7.4</td>\n",
              "    </tr>\n",
              "    <tr>\n",
              "      <th>2022-02-13</th>\n",
              "      <td>1020.7</td>\n",
              "      <td>7.0</td>\n",
              "      <td>0.0</td>\n",
              "      <td>4.4</td>\n",
              "      <td>-0.8</td>\n",
              "      <td>9.6</td>\n",
              "    </tr>\n",
              "    <tr>\n",
              "      <th>2022-02-14</th>\n",
              "      <td>1013.0</td>\n",
              "      <td>10.5</td>\n",
              "      <td>3.5</td>\n",
              "      <td>5.9</td>\n",
              "      <td>3.3</td>\n",
              "      <td>8.4</td>\n",
              "    </tr>\n",
              "    <tr>\n",
              "      <th>2022-02-15</th>\n",
              "      <td>1021.6</td>\n",
              "      <td>6.7</td>\n",
              "      <td>0.0</td>\n",
              "      <td>6.1</td>\n",
              "      <td>3.4</td>\n",
              "      <td>8.8</td>\n",
              "    </tr>\n",
              "    <tr>\n",
              "      <th>2022-02-16</th>\n",
              "      <td>1026.9</td>\n",
              "      <td>6.2</td>\n",
              "      <td>0.0</td>\n",
              "      <td>5.5</td>\n",
              "      <td>1.8</td>\n",
              "      <td>9.1</td>\n",
              "    </tr>\n",
              "    <tr>\n",
              "      <th>2022-02-17</th>\n",
              "      <td>1030.5</td>\n",
              "      <td>8.8</td>\n",
              "      <td>0.0</td>\n",
              "      <td>6.9</td>\n",
              "      <td>4.3</td>\n",
              "      <td>9.5</td>\n",
              "    </tr>\n",
              "    <tr>\n",
              "      <th>2022-02-18</th>\n",
              "      <td>1030.1</td>\n",
              "      <td>4.9</td>\n",
              "      <td>0.0</td>\n",
              "      <td>5.8</td>\n",
              "      <td>3.5</td>\n",
              "      <td>8.1</td>\n",
              "    </tr>\n",
              "    <tr>\n",
              "      <th>2022-02-19</th>\n",
              "      <td>1016.9</td>\n",
              "      <td>13.8</td>\n",
              "      <td>3.6</td>\n",
              "      <td>5.7</td>\n",
              "      <td>3.0</td>\n",
              "      <td>8.4</td>\n",
              "    </tr>\n",
              "    <tr>\n",
              "      <th>2022-02-20</th>\n",
              "      <td>1012.2</td>\n",
              "      <td>24.9</td>\n",
              "      <td>0.0</td>\n",
              "      <td>5.8</td>\n",
              "      <td>3.6</td>\n",
              "      <td>8.0</td>\n",
              "    </tr>\n",
              "    <tr>\n",
              "      <th>2022-02-21</th>\n",
              "      <td>1014.9</td>\n",
              "      <td>16.1</td>\n",
              "      <td>0.9</td>\n",
              "      <td>3.5</td>\n",
              "      <td>-0.8</td>\n",
              "      <td>7.7</td>\n",
              "    </tr>\n",
              "    <tr>\n",
              "      <th>2022-02-22</th>\n",
              "      <td>1028.1</td>\n",
              "      <td>17.8</td>\n",
              "      <td>0.0</td>\n",
              "      <td>-0.2</td>\n",
              "      <td>-3.2</td>\n",
              "      <td>2.8</td>\n",
              "    </tr>\n",
              "    <tr>\n",
              "      <th>2022-02-23</th>\n",
              "      <td>1030.3</td>\n",
              "      <td>11.4</td>\n",
              "      <td>0.0</td>\n",
              "      <td>-2.7</td>\n",
              "      <td>-6.8</td>\n",
              "      <td>1.5</td>\n",
              "    </tr>\n",
              "    <tr>\n",
              "      <th>2022-02-24</th>\n",
              "      <td>1031.0</td>\n",
              "      <td>8.0</td>\n",
              "      <td>0.0</td>\n",
              "      <td>-0.6</td>\n",
              "      <td>-5.2</td>\n",
              "      <td>4.0</td>\n",
              "    </tr>\n",
              "    <tr>\n",
              "      <th>2022-02-25</th>\n",
              "      <td>1030.5</td>\n",
              "      <td>9.5</td>\n",
              "      <td>0.0</td>\n",
              "      <td>0.4</td>\n",
              "      <td>-4.6</td>\n",
              "      <td>5.4</td>\n",
              "    </tr>\n",
              "    <tr>\n",
              "      <th>2022-02-26</th>\n",
              "      <td>1020.6</td>\n",
              "      <td>14.5</td>\n",
              "      <td>6.2</td>\n",
              "      <td>4.1</td>\n",
              "      <td>-3.1</td>\n",
              "      <td>11.2</td>\n",
              "    </tr>\n",
              "    <tr>\n",
              "      <th>2022-02-27</th>\n",
              "      <td>1016.5</td>\n",
              "      <td>19.4</td>\n",
              "      <td>19.3</td>\n",
              "      <td>7.6</td>\n",
              "      <td>4.4</td>\n",
              "      <td>10.7</td>\n",
              "    </tr>\n",
              "    <tr>\n",
              "      <th>2022-02-28</th>\n",
              "      <td>1011.7</td>\n",
              "      <td>18.6</td>\n",
              "      <td>11.3</td>\n",
              "      <td>7.5</td>\n",
              "      <td>6.4</td>\n",
              "      <td>8.5</td>\n",
              "    </tr>\n",
              "    <tr>\n",
              "      <th>2022-03-01</th>\n",
              "      <td>1015.9</td>\n",
              "      <td>15.2</td>\n",
              "      <td>3.5</td>\n",
              "      <td>10.1</td>\n",
              "      <td>7.1</td>\n",
              "      <td>13.0</td>\n",
              "    </tr>\n",
              "  </tbody>\n",
              "</table>\n",
              "</div>\n",
              "      <button class=\"colab-df-convert\" onclick=\"convertToInteractive('df-f3d4a423-a03f-433b-8912-f48095bf31b8')\"\n",
              "              title=\"Convert this dataframe to an interactive table.\"\n",
              "              style=\"display:none;\">\n",
              "        \n",
              "  <svg xmlns=\"http://www.w3.org/2000/svg\" height=\"24px\"viewBox=\"0 0 24 24\"\n",
              "       width=\"24px\">\n",
              "    <path d=\"M0 0h24v24H0V0z\" fill=\"none\"/>\n",
              "    <path d=\"M18.56 5.44l.94 2.06.94-2.06 2.06-.94-2.06-.94-.94-2.06-.94 2.06-2.06.94zm-11 1L8.5 8.5l.94-2.06 2.06-.94-2.06-.94L8.5 2.5l-.94 2.06-2.06.94zm10 10l.94 2.06.94-2.06 2.06-.94-2.06-.94-.94-2.06-.94 2.06-2.06.94z\"/><path d=\"M17.41 7.96l-1.37-1.37c-.4-.4-.92-.59-1.43-.59-.52 0-1.04.2-1.43.59L10.3 9.45l-7.72 7.72c-.78.78-.78 2.05 0 2.83L4 21.41c.39.39.9.59 1.41.59.51 0 1.02-.2 1.41-.59l7.78-7.78 2.81-2.81c.8-.78.8-2.07 0-2.86zM5.41 20L4 18.59l7.72-7.72 1.47 1.35L5.41 20z\"/>\n",
              "  </svg>\n",
              "      </button>\n",
              "      \n",
              "  <style>\n",
              "    .colab-df-container {\n",
              "      display:flex;\n",
              "      flex-wrap:wrap;\n",
              "      gap: 12px;\n",
              "    }\n",
              "\n",
              "    .colab-df-convert {\n",
              "      background-color: #E8F0FE;\n",
              "      border: none;\n",
              "      border-radius: 50%;\n",
              "      cursor: pointer;\n",
              "      display: none;\n",
              "      fill: #1967D2;\n",
              "      height: 32px;\n",
              "      padding: 0 0 0 0;\n",
              "      width: 32px;\n",
              "    }\n",
              "\n",
              "    .colab-df-convert:hover {\n",
              "      background-color: #E2EBFA;\n",
              "      box-shadow: 0px 1px 2px rgba(60, 64, 67, 0.3), 0px 1px 3px 1px rgba(60, 64, 67, 0.15);\n",
              "      fill: #174EA6;\n",
              "    }\n",
              "\n",
              "    [theme=dark] .colab-df-convert {\n",
              "      background-color: #3B4455;\n",
              "      fill: #D2E3FC;\n",
              "    }\n",
              "\n",
              "    [theme=dark] .colab-df-convert:hover {\n",
              "      background-color: #434B5C;\n",
              "      box-shadow: 0px 1px 3px 1px rgba(0, 0, 0, 0.15);\n",
              "      filter: drop-shadow(0px 1px 2px rgba(0, 0, 0, 0.3));\n",
              "      fill: #FFFFFF;\n",
              "    }\n",
              "  </style>\n",
              "\n",
              "      <script>\n",
              "        const buttonEl =\n",
              "          document.querySelector('#df-f3d4a423-a03f-433b-8912-f48095bf31b8 button.colab-df-convert');\n",
              "        buttonEl.style.display =\n",
              "          google.colab.kernel.accessAllowed ? 'block' : 'none';\n",
              "\n",
              "        async function convertToInteractive(key) {\n",
              "          const element = document.querySelector('#df-f3d4a423-a03f-433b-8912-f48095bf31b8');\n",
              "          const dataTable =\n",
              "            await google.colab.kernel.invokeFunction('convertToInteractive',\n",
              "                                                     [key], {});\n",
              "          if (!dataTable) return;\n",
              "\n",
              "          const docLinkHtml = 'Like what you see? Visit the ' +\n",
              "            '<a target=\"_blank\" href=https://colab.research.google.com/notebooks/data_table.ipynb>data table notebook</a>'\n",
              "            + ' to learn more about interactive tables.';\n",
              "          element.innerHTML = '';\n",
              "          dataTable['output_type'] = 'display_data';\n",
              "          await google.colab.output.renderOutput(dataTable, element);\n",
              "          const docLink = document.createElement('div');\n",
              "          docLink.innerHTML = docLinkHtml;\n",
              "          element.appendChild(docLink);\n",
              "        }\n",
              "      </script>\n",
              "    </div>\n",
              "  </div>\n",
              "  "
            ],
            "text/plain": [
              "              pres  wspd  prcp  tavg  tmin  tmax\n",
              "time                                            \n",
              "2022-02-05  1034.9   8.7   0.0   5.7   3.9   7.5\n",
              "2022-02-06  1029.5   7.6   0.0   3.5  -0.4   7.4\n",
              "2022-02-07  1027.5  14.6   0.0   7.4   2.9  11.8\n",
              "2022-02-08  1035.8  13.3   2.9   5.5   2.9   8.0\n",
              "2022-02-09  1036.4   8.3   0.9   7.3   5.8   8.7\n",
              "2022-02-10  1033.0   7.6   0.2   5.1   3.4   6.8\n",
              "2022-02-11  1032.8  15.1   0.0   5.1   2.2   8.0\n",
              "2022-02-12  1027.9  11.5   0.0   3.6  -0.2   7.4\n",
              "2022-02-13  1020.7   7.0   0.0   4.4  -0.8   9.6\n",
              "2022-02-14  1013.0  10.5   3.5   5.9   3.3   8.4\n",
              "2022-02-15  1021.6   6.7   0.0   6.1   3.4   8.8\n",
              "2022-02-16  1026.9   6.2   0.0   5.5   1.8   9.1\n",
              "2022-02-17  1030.5   8.8   0.0   6.9   4.3   9.5\n",
              "2022-02-18  1030.1   4.9   0.0   5.8   3.5   8.1\n",
              "2022-02-19  1016.9  13.8   3.6   5.7   3.0   8.4\n",
              "2022-02-20  1012.2  24.9   0.0   5.8   3.6   8.0\n",
              "2022-02-21  1014.9  16.1   0.9   3.5  -0.8   7.7\n",
              "2022-02-22  1028.1  17.8   0.0  -0.2  -3.2   2.8\n",
              "2022-02-23  1030.3  11.4   0.0  -2.7  -6.8   1.5\n",
              "2022-02-24  1031.0   8.0   0.0  -0.6  -5.2   4.0\n",
              "2022-02-25  1030.5   9.5   0.0   0.4  -4.6   5.4\n",
              "2022-02-26  1020.6  14.5   6.2   4.1  -3.1  11.2\n",
              "2022-02-27  1016.5  19.4  19.3   7.6   4.4  10.7\n",
              "2022-02-28  1011.7  18.6  11.3   7.5   6.4   8.5\n",
              "2022-03-01  1015.9  15.2   3.5  10.1   7.1  13.0"
            ]
          },
          "metadata": {},
          "execution_count": 38
        }
      ]
    },
    {
      "cell_type": "code",
      "source": [
        "\"\"\"\n",
        "Check the shape of our training data - \n",
        "x_train is of shape ((n_days_total-n_past), n_past, n_features)\n",
        "y_train is of shape ((n_days_total-n_past), 1)\n",
        "\n",
        "where n_days_total is the total length of the original dataset - aka the 15 years of data.\n",
        "\"\"\"\n",
        "\n",
        "print(f\"x_train shape ==> {x_train.shape}\")\n",
        "print(f\"y_train shape ==> {y_train.shape}\")"
      ],
      "metadata": {
        "colab": {
          "base_uri": "https://localhost:8080/"
        },
        "id": "QZAeLIIICGd5",
        "outputId": "114eb3d8-fbfd-47b0-cb3f-87f0fe6011fe"
      },
      "execution_count": null,
      "outputs": [
        {
          "output_type": "stream",
          "name": "stdout",
          "text": [
            "x_train shape ==> (5107, 7, 6)\n",
            "y_train shape ==> (5107, 1)\n"
          ]
        }
      ]
    },
    {
      "cell_type": "code",
      "source": [
        "x_train[0]"
      ],
      "metadata": {
        "colab": {
          "base_uri": "https://localhost:8080/"
        },
        "id": "ymohUz2mCHsS",
        "outputId": "338bf7b9-f7c8-4b9c-c6ba-bfd01e7d145a"
      },
      "execution_count": null,
      "outputs": [
        {
          "output_type": "execute_result",
          "data": {
            "text/plain": [
              "array([[ 0.29768803,  0.22461925,  0.02187073, -0.55296741, -0.54694086,\n",
              "        -0.43709742],\n",
              "       [ 2.3214989 , -0.07114994, -0.50011312, -0.78913608, -0.88219335,\n",
              "        -0.95873846],\n",
              "       [ 0.39606773,  1.44466715,  0.98674996, -1.00843557, -1.05864202,\n",
              "        -0.88202654],\n",
              "       [ 1.33770195, -1.06937095, -0.50011312, -0.94095881, -1.2350907 ,\n",
              "        -0.95873846],\n",
              "       [ 1.70311224, -1.34665456, -0.50011312, -1.07591234, -1.41153937,\n",
              "        -0.88202654],\n",
              "       [ 1.12688832, -1.40211129, -0.50011312, -1.00843557, -1.14686636,\n",
              "        -0.49846696],\n",
              "       [ 0.76147802, -0.36691913, -0.3419362 , -0.45175226, -1.41153937,\n",
              "        -0.46778219]])"
            ]
          },
          "metadata": {},
          "execution_count": 40
        }
      ]
    },
    {
      "cell_type": "markdown",
      "source": [
        "## Defining the LSTM Model"
      ],
      "metadata": {
        "id": "Cg1l7xWZEmnQ"
      }
    },
    {
      "cell_type": "code",
      "source": [
        "## Import keras Sequential model & Layers\n",
        "from tensorflow import keras\n",
        "from keras.models import Sequential\n",
        "from keras.layers import LSTM, Dense, Dropout"
      ],
      "metadata": {
        "id": "cYqZR3ZMEKMc"
      },
      "execution_count": null,
      "outputs": []
    },
    {
      "cell_type": "code",
      "source": [
        "# We want the input dimensions of our model to be (seq_length, n_features)\n",
        "input_dim = (x_train.shape[1], x_train.shape[2])"
      ],
      "metadata": {
        "id": "glC1y7XsE6gW"
      },
      "execution_count": null,
      "outputs": []
    },
    {
      "cell_type": "code",
      "source": [
        "model = Sequential()\n",
        "model.add(LSTM(64, input_shape=input_dim, return_sequences=True)) # return the full sequence instead of just the last output. so the output shape of this layer is (None, 7, 64)\n",
        "model.add(LSTM(32, activation='relu', return_sequences=False))\n",
        "model.add(Dropout(0.2))\n",
        "model.add(Dense(y_train.shape[1]))\n",
        "\n",
        "model.compile(optimizer='adam', loss='mse')\n",
        "model.summary()"
      ],
      "metadata": {
        "colab": {
          "base_uri": "https://localhost:8080/"
        },
        "id": "TmJ_9GrSEcbu",
        "outputId": "784cd743-c304-4a11-a1b2-437bc1e4c5ea"
      },
      "execution_count": null,
      "outputs": [
        {
          "output_type": "stream",
          "name": "stdout",
          "text": [
            "Model: \"sequential\"\n",
            "_________________________________________________________________\n",
            " Layer (type)                Output Shape              Param #   \n",
            "=================================================================\n",
            " lstm (LSTM)                 (None, 7, 64)             18176     \n",
            "                                                                 \n",
            " lstm_1 (LSTM)               (None, 32)                12416     \n",
            "                                                                 \n",
            " dropout (Dropout)           (None, 32)                0         \n",
            "                                                                 \n",
            " dense (Dense)               (None, 1)                 33        \n",
            "                                                                 \n",
            "=================================================================\n",
            "Total params: 30,625\n",
            "Trainable params: 30,625\n",
            "Non-trainable params: 0\n",
            "_________________________________________________________________\n"
          ]
        }
      ]
    },
    {
      "cell_type": "code",
      "source": [
        "# save the model\n",
        "root_dir = \"/content/drive/My Drive\"\n",
        "proj_dir = f\"{root_dir}/Colab Notebooks/LEARNING\"\n",
        "model_dir = f\"{proj_dir}/models\"\n",
        "model.save(f\"{model_dir}/lstm_weather.h5\")"
      ],
      "metadata": {
        "id": "JroeIqQzTDK5"
      },
      "execution_count": null,
      "outputs": []
    },
    {
      "cell_type": "code",
      "source": [
        "# fit the model\n",
        "history = model.fit(x_train, y_train, epochs=5, batch_size=16, validation_split=.2, verbose=1)"
      ],
      "metadata": {
        "colab": {
          "base_uri": "https://localhost:8080/"
        },
        "id": "fnQoArP7FWnp",
        "outputId": "c8d46a67-e893-42aa-b600-e19c8ec9949c"
      },
      "execution_count": null,
      "outputs": [
        {
          "output_type": "stream",
          "name": "stdout",
          "text": [
            "Epoch 1/5\n",
            "256/256 [==============================] - 7s 13ms/step - loss: 0.1899 - val_loss: 0.1310\n",
            "Epoch 2/5\n",
            "256/256 [==============================] - 3s 10ms/step - loss: 0.1221 - val_loss: 0.0929\n",
            "Epoch 3/5\n",
            "256/256 [==============================] - 3s 10ms/step - loss: 0.1028 - val_loss: 0.0824\n",
            "Epoch 4/5\n",
            "256/256 [==============================] - 3s 10ms/step - loss: 0.0939 - val_loss: 0.0800\n",
            "Epoch 5/5\n",
            "256/256 [==============================] - 2s 10ms/step - loss: 0.0916 - val_loss: 0.0764\n"
          ]
        }
      ]
    },
    {
      "cell_type": "code",
      "source": [
        "# Quick plot of the loss\n",
        "plt.plot(history.history['loss'], label='train')\n",
        "plt.plot(history.history['val_loss'], label='val')\n",
        "plt.title('Model Loss')\n",
        "\n",
        "plt.xticks(range(5)) # set the ticks to be integral numbers instead of default float\n",
        "plt.xlabel(xlabel='epoch')\n",
        "plt.ylabel(ylabel='loss')\n",
        "plt.legend()"
      ],
      "metadata": {
        "colab": {
          "base_uri": "https://localhost:8080/",
          "height": 312
        },
        "id": "zTN_o4GAy-kZ",
        "outputId": "81b713b0-21b0-4c58-8505-d85417f545b7"
      },
      "execution_count": null,
      "outputs": [
        {
          "output_type": "execute_result",
          "data": {
            "text/plain": [
              "<matplotlib.legend.Legend at 0x7fbd8c18b510>"
            ]
          },
          "metadata": {},
          "execution_count": 97
        },
        {
          "output_type": "display_data",
          "data": {
            "image/png": "[encoded data removed]",
            "text/plain": [
              "<Figure size 432x288 with 1 Axes>"
            ]
          },
          "metadata": {}
        }
      ]
    },
    {
      "cell_type": "markdown",
      "source": [
        "## Forecasting\n",
        "\n",
        "Finally - we have a trained model we can use to predict the weather! :) "
      ],
      "metadata": {
        "id": "y7fIp5kkXHLn"
      }
    },
    {
      "cell_type": "code",
      "source": [
        "n_days_to_forecast=50  # the number of days in the future we want to forecast using the model\n",
        "forecast_ts_list = pd.date_range(list(dates)[-1], periods=n_days_to_forecast, freq='1d').tolist() # obtain a list of the actual dates we will be forecasting for -- the 15 days after the end of our training data\n",
        "\n",
        "\n",
        "# predict the weather for the 15 days\n",
        "forecast = model.predict(x_train[-n_days_to_forecast:]) #shape = (n, 1) where n is the n_days_for_prediction\n"
      ],
      "metadata": {
        "id": "i2vLC6_87f0R"
      },
      "execution_count": null,
      "outputs": []
    },
    {
      "cell_type": "code",
      "source": [
        "forecast"
      ],
      "metadata": {
        "id": "DKDrWORD9wrJ",
        "colab": {
          "base_uri": "https://localhost:8080/"
        },
        "outputId": "de249339-225f-46f6-abe0-72ba26636008"
      },
      "execution_count": null,
      "outputs": [
        {
          "output_type": "execute_result",
          "data": {
            "text/plain": [
              "array([[-1.0928197 ],\n",
              "       [-0.5377009 ],\n",
              "       [-0.35998002],\n",
              "       [-0.654203  ],\n",
              "       [-0.58990675],\n",
              "       [-0.8707403 ],\n",
              "       [-0.82735705],\n",
              "       [-0.8788773 ],\n",
              "       [-0.8438888 ],\n",
              "       [-0.60215575],\n",
              "       [-0.5141498 ],\n",
              "       [-1.0467744 ],\n",
              "       [-1.1351737 ],\n",
              "       [-1.4109579 ],\n",
              "       [-1.2619934 ],\n",
              "       [-1.4599801 ],\n",
              "       [-1.4658341 ],\n",
              "       [-1.5119587 ],\n",
              "       [-1.3655065 ],\n",
              "       [-1.1957556 ],\n",
              "       [-0.9403461 ],\n",
              "       [-1.3400227 ],\n",
              "       [-1.5450748 ],\n",
              "       [-1.844036  ],\n",
              "       [-1.0606822 ],\n",
              "       [-0.9049693 ],\n",
              "       [-0.9531781 ],\n",
              "       [-1.2220936 ],\n",
              "       [-0.6881518 ],\n",
              "       [-0.9794913 ],\n",
              "       [-0.6963466 ],\n",
              "       [-0.97242254],\n",
              "       [-1.1104898 ],\n",
              "       [-1.2911017 ],\n",
              "       [-1.10139   ],\n",
              "       [-0.88411826],\n",
              "       [-0.90792096],\n",
              "       [-0.9203889 ],\n",
              "       [-0.7321106 ],\n",
              "       [-0.8074401 ],\n",
              "       [-0.8255439 ],\n",
              "       [-1.0562882 ],\n",
              "       [-1.4088178 ],\n",
              "       [-1.9465357 ],\n",
              "       [-2.2790043 ],\n",
              "       [-1.7490851 ],\n",
              "       [-1.589635  ],\n",
              "       [-1.0363626 ],\n",
              "       [-0.7183247 ],\n",
              "       [-0.82902265]], dtype=float32)"
            ]
          },
          "metadata": {},
          "execution_count": 164
        }
      ]
    },
    {
      "cell_type": "code",
      "source": [
        "# Since the forecasted data is still scaled, we need to perform an inverse transformation.\n",
        "# First, we have to repeat the array elements to be the same shape expected by the scaler (otherwise we will get an error)\n",
        "# so instead of the above 'column vector' (15,1) we get a matrix of shape (15,6) = (n_days_to_forecast, n_features)\n",
        "forecast_repeated = np.repeat(forecast, scaled_data.shape[1], axis=1)\n",
        "forecast_repeated.shape"
      ],
      "metadata": {
        "id": "dsD67KdT96of",
        "colab": {
          "base_uri": "https://localhost:8080/"
        },
        "outputId": "3910be13-82c8-4c70-fa36-dc20ed791710"
      },
      "execution_count": null,
      "outputs": [
        {
          "output_type": "execute_result",
          "data": {
            "text/plain": [
              "(50, 6)"
            ]
          },
          "metadata": {},
          "execution_count": 165
        }
      ]
    },
    {
      "cell_type": "code",
      "source": [
        "# get the third column - this corresponds to the tavg (same as the y_var_ind parameter in the shape_data function).\n",
        "y_forecasted = scaler.inverse_transform(forecast_repeated)[:,3]\n",
        "y_forecasted"
      ],
      "metadata": {
        "colab": {
          "base_uri": "https://localhost:8080/"
        },
        "id": "rKJz2JREcwuO",
        "outputId": "bbbe8dbf-152f-4b14-c05e-2a87897ca3d1"
      },
      "execution_count": null,
      "outputs": [
        {
          "output_type": "execute_result",
          "data": {
            "text/plain": [
              "array([ 4.099774  ,  7.3904996 ,  8.444023  ,  6.6998787 ,  7.0810246 ,\n",
              "        5.416253  ,  5.6734276 ,  5.368017  ,  5.575428  ,  7.0084133 ,\n",
              "        7.5301094 ,  4.372729  ,  3.8487008 ,  2.2138612 ,  3.0969174 ,\n",
              "        1.9232585 ,  1.8885562 ,  1.6151311 ,  2.4832952 ,  3.4895732 ,\n",
              "        5.003632  ,  2.6343625 ,  1.4188201 , -0.3534109 ,  4.290284  ,\n",
              "        5.213345  ,  4.9275646 ,  3.3334424 ,  6.498632  ,  4.7715807 ,\n",
              "        6.450053  ,  4.813484  ,  3.9950254 ,  2.9243648 ,  4.0489693 ,\n",
              "        5.336949  ,  5.1958475 ,  5.121938  ,  6.238045  ,  5.7914944 ,\n",
              "        5.684176  ,  4.316331  ,  2.226548  , -0.9610264 , -2.9318888 ,\n",
              "        0.20945436,  1.1546695 ,  4.434449  ,  6.3197675 ,  5.663554  ],\n",
              "      dtype=float32)"
            ]
          },
          "metadata": {},
          "execution_count": 166
        }
      ]
    },
    {
      "cell_type": "code",
      "source": [
        "# convert timestamp to date\n",
        "forecast_dates = [ts.date() for ts in forecast_ts_list]"
      ],
      "metadata": {
        "id": "sDSmdrsUdUje"
      },
      "execution_count": null,
      "outputs": []
    },
    {
      "cell_type": "code",
      "source": [
        "df_forecast = pd.DataFrame({'date' : forecast_dates, 'avg temp' : y_forecasted})"
      ],
      "metadata": {
        "id": "h_9evRrUZV7N"
      },
      "execution_count": null,
      "outputs": []
    },
    {
      "cell_type": "code",
      "source": [
        "# get the actual values for the days available\n",
        "start_actuals = datetime(2022, 3, 2)\n",
        "end_actuals = datetime(2022, 3, 6)\n",
        "\n",
        "data_actual = Daily(STATION, start=start_actuals, end=end_actuals)\n",
        "data_actual = data_actual.normalize()\n",
        "data_actual = data_actual.interpolate() # fill in gaps where data is missing\n",
        "data_actual = data_actual.fetch()\n",
        "\n"
      ],
      "metadata": {
        "id": "9kLEiI9QdveE"
      },
      "execution_count": null,
      "outputs": []
    },
    {
      "cell_type": "code",
      "source": [
        "data_actual['tavg']"
      ],
      "metadata": {
        "colab": {
          "base_uri": "https://localhost:8080/"
        },
        "id": "RQ8lAqXgfA7a",
        "outputId": "ceb25cf2-0d7f-4ea3-c5ee-9ad13aa0f5de"
      },
      "execution_count": null,
      "outputs": [
        {
          "output_type": "execute_result",
          "data": {
            "text/plain": [
              "time\n",
              "2022-03-02     0.3\n",
              "2022-03-03    -6.1\n",
              "2022-03-04    -5.6\n",
              "2022-03-05     1.7\n",
              "2022-03-06    11.9\n",
              "Name: tavg, dtype: float64"
            ]
          },
          "metadata": {},
          "execution_count": 170
        }
      ]
    },
    {
      "cell_type": "code",
      "source": [
        "sns.lineplot(x=data.index[-50:], y=data['tavg'][-50:], label='actual_train')\n",
        "sns.lineplot(x=data_actual.index, y=data_actual['tavg'], label='actual_val')\n",
        "sns.lineplot(x=df_forecast['date'], y=df_forecast['avg temp'], label='forecast')\n",
        "\n",
        "plt.title('Forecasted and Actual Avg. Temperature in Rochester, NY')\n",
        "plt.xlabel('Date')\n",
        "plt.ylabel('avg. temp (\\N{degree sign}C)')"
      ],
      "metadata": {
        "colab": {
          "base_uri": "https://localhost:8080/",
          "height": 312
        },
        "id": "RisZn0CGZY0f",
        "outputId": "2a427ee6-06a8-44d8-e8f3-47fc90eb2093"
      },
      "execution_count": null,
      "outputs": [
        {
          "output_type": "execute_result",
          "data": {
            "text/plain": [
              "Text(0, 0.5, 'avg. temp (°C)')"
            ]
          },
          "metadata": {},
          "execution_count": 171
        },
        {
          "output_type": "display_data",
          "data": {
            "image/png": "[encoded data removed]",
            "text/plain": [
              "<Figure size 432x288 with 1 Axes>"
            ]
          },
          "metadata": {}
        }
      ]
    }
  ]
}